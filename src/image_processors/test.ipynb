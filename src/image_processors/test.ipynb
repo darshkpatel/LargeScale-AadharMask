{
 "cells": [
  {
   "cell_type": "code",
   "execution_count": 24,
   "metadata": {},
   "outputs": [],
   "source": [
    "import numpy as np\n",
    "import cv2\n",
    "from pyzbar.pyzbar import decode, ZBarSymbol\n",
    "import base64"
   ]
  },
  {
   "cell_type": "code",
   "execution_count": 25,
   "metadata": {},
   "outputs": [],
   "source": [
    "__all__ = [\"order_points\"]\n",
    "def order_points(pts):\n",
    "\t# initialzie a list of coordinates that will be ordered\n",
    "\t# such that the first entry in the list is the top-left,\n",
    "\t# the second entry is the top-right, the third is the\n",
    "\t# bottom-right, and the fourth is the bottom-left\n",
    "\trect = np.zeros((4, 2), dtype = \"float32\")\n",
    "\n",
    "\t# the top-left point will have the smallest sum, whereas\n",
    "\t# the bottom-right point will have the largest sum\n",
    "\ts = pts.sum(axis = 1)\n",
    "\trect[0] = pts[np.argmin(s)]\n",
    "\trect[2] = pts[np.argmax(s)]\n",
    "\n",
    "\t# now, compute the difference between the points, the\n",
    "\t# top-right point will have the smallest difference,\n",
    "\t# whereas the bottom-left will have the largest difference\n",
    "\tdiff = np.diff(pts, axis = 1)\n",
    "\trect[1] = pts[np.argmin(diff)]\n",
    "\trect[3] = pts[np.argmax(diff)]\n",
    "\n",
    "\t# return the ordered coordinates\n",
    "\treturn rect\n"
   ]
  },
  {
   "cell_type": "code",
   "execution_count": 26,
   "metadata": {},
   "outputs": [],
   "source": [
    "\n",
    "def four_point_transform(image, pts):\n",
    "\t# obtain a consistent order of the points and unpack them\n",
    "\t# individually\n",
    "\trect = order_points(pts)\n",
    "\t(tl, tr, br, bl) = rect\n",
    "\n",
    "\t# compute the width of the new image, which will be the\n",
    "\t# maximum distance between bottom-right and bottom-left\n",
    "\t# x-coordiates or the top-right and top-left x-coordinates\n",
    "\twidthA = np.sqrt(((br[0] - bl[0]) ** 2) + ((br[1] - bl[1]) ** 2))\n",
    "\twidthB = np.sqrt(((tr[0] - tl[0]) ** 2) + ((tr[1] - tl[1]) ** 2))\n",
    "\tmaxWidth = max(int(widthA), int(widthB))\n",
    "\n",
    "\t# compute the height of the new image, which will be the\n",
    "\t# maximum distance between the top-right and bottom-right\n",
    "\t# y-coordinates or the top-left and bottom-left y-coordinates\n",
    "\theightA = np.sqrt(((tr[0] - br[0]) ** 2) + ((tr[1] - br[1]) ** 2))\n",
    "\theightB = np.sqrt(((tl[0] - bl[0]) ** 2) + ((tl[1] - bl[1]) ** 2))\n",
    "\tmaxHeight = max(int(heightA), int(heightB))\n",
    "\n",
    "\t# now that we have the dimensions of the new image, construct\n",
    "\t# the set of destination points to obtain a \"birds eye view\",\n",
    "\t# (i.e. top-down view) of the image, again specifying points\n",
    "\t# in the top-left, top-right, bottom-right, and bottom-left\n",
    "\t# order\n",
    "\tdst = np.array([\n",
    "\t\t[0, 0],\n",
    "\t\t[maxWidth - 1, 0],\n",
    "\t\t[maxWidth - 1, maxHeight - 1],\n",
    "\t\t[0, maxHeight - 1]], dtype = \"float32\")\n",
    "\n",
    "\t# compute the perspective transform matrix and then apply it\n",
    "\tM = cv2.getPerspectiveTransform(rect, dst)\n",
    "\twarped = cv2.warpPerspective(image, M, (maxWidth, maxHeight))\n",
    "\n",
    "\t# return the warped image\n",
    "\treturn warped\n"
   ]
  },
  {
   "cell_type": "code",
   "execution_count": 27,
   "metadata": {},
   "outputs": [],
   "source": [
    "def masker(img):\n",
    "    # Load image\n",
    "    # img = cv2.imread('uma.jpeg')\n",
    "    npimg = np.fromstring(img, np.uint8)\n",
    "    img = cv2.imdecode(npimg, cv2.IMREAD_COLOR)\n",
    "    original = img.copy()\n",
    "    gray = cv2.cvtColor(img, cv2.COLOR_BGR2GRAY)\n",
    "    blur = cv2.GaussianBlur(gray, (9,9), 0)\n",
    "    thresh = cv2.threshold(blur, 0, 255, cv2.THRESH_BINARY_INV + cv2.THRESH_OTSU)[1]\n",
    "\n",
    "    # Morph close\n",
    "    kernel = cv2.getStructuringElement(cv2.MORPH_RECT, (5,5))\n",
    "    close = cv2.morphologyEx(thresh, cv2.MORPH_CLOSE, kernel, iterations=2)\n",
    "\n",
    "    # Find contours and filter for QR code\n",
    "    cnts = cv2.findContours(close, cv2.RETR_EXTERNAL, cv2.CHAIN_APPROX_SIMPLE)\n",
    "    cnts = cnts[0] if len(cnts) == 2 else cnts[1]\n",
    "    for c in cnts:\n",
    "        peri = cv2.arcLength(c, True)\n",
    "        approx = cv2.approxPolyDP(c, 0.04 * peri, True)\n",
    "        x,y,w,h = cv2.boundingRect(approx)\n",
    "        area = cv2.contourArea(c)\n",
    "        ar = w / float(h)\n",
    "        if len(approx) == 4 and area > 1000 and (ar > .85 and ar < 1.3):\n",
    "            isd = cv2.rectangle(img, (x, y), (x + w, y + h), (36,255,12), -1)\n",
    "    #         ROI = original[y:y+h, x:x+w]\n",
    "            cv2.imwrite('cropped.png', isd)\n"
   ]
  },
  {
   "cell_type": "code",
   "execution_count": 30,
   "metadata": {},
   "outputs": [],
   "source": [
    "def process(img):\n",
    "    \"\"\"\n",
    "    Reads from a 'Image String' , extracts and processes the qr code, returns qrcode data or False\n",
    "    \"\"\"\n",
    "\n",
    "    # Load image as string from file/database\n",
    "    # img = cv2.imread('uma.jpeg')\n",
    "    # img = cv2.imencode('.png', img)[1].tostring()\n",
    "\n",
    "    # cv2.imshow('image', img)\n",
    "    # cv2.waitKey(0)\n",
    "    npimg = np.fromstring(img, np.uint8)\n",
    "    image = cv2.imdecode(npimg, cv2.IMREAD_COLOR)\n",
    "    masker(img)   \n",
    "\n",
    "    gray = cv2.cvtColor(image, cv2.COLOR_BGR2GRAY)\n",
    "\n",
    "    # equalize lighting\n",
    "    clahe = cv2.createCLAHE(clipLimit=2.0, tileGridSize=(8,8))\n",
    "    gray = clahe.apply(gray)\n",
    "\n",
    "    # edge enhancement\n",
    "    edge_enh = cv2.Laplacian(gray, ddepth = cv2.CV_8U,\n",
    "                            ksize = 3, scale = 1, delta = 0)\n",
    "    # bilateral blur, which keeps edges\n",
    "    blurred = cv2.bilateralFilter(edge_enh, 13, 50, 50)\n",
    "    # use simple thresholding. adaptive thresholding might be more robust\n",
    "    (_, thresh) = cv2.threshold(blurred, 55, 255, cv2.THRESH_BINARY)\n",
    "    # do some morphology to isolate just the barcode blob\n",
    "    kernel = cv2.getStructuringElement(cv2.MORPH_RECT, (9, 9))\n",
    "    closed = cv2.morphologyEx(thresh, cv2.MORPH_CLOSE, kernel)\n",
    "    closed = cv2.erode(closed, None, iterations = 4)\n",
    "    closed = cv2.dilate(closed, None, iterations = 4)\n",
    "    # find contours left in the image\n",
    "    (cnts, _) = cv2.findContours(closed.copy(), cv2.RETR_EXTERNAL, cv2.CHAIN_APPROX_SIMPLE)\n",
    "    for contour in sorted(cnts, key = cv2.contourArea, reverse = True):\n",
    "        rect = cv2.minAreaRect(contour)\n",
    "        box = np.int0(cv2.boxPoints(rect))\n",
    "        cv2.drawContours(image, [box], -1, (0, 255, 0), 3)\n",
    "#         retval = cv2.imwrite(\"found.jpg\", image)\n",
    "        warped = four_point_transform(image, box)\n",
    "        decoded = decode(warped, symbols=[ZBarSymbol.QRCODE])\n",
    "        if(decoded):\n",
    "            return decoded[0].data\n",
    "    return False\n",
    "\n"
   ]
  },
  {
   "cell_type": "code",
   "execution_count": 33,
   "metadata": {},
   "outputs": [
    {
     "name": "stdout",
     "output_type": "stream",
     "text": [
      "False\n"
     ]
    },
    {
     "name": "stderr",
     "output_type": "stream",
     "text": [
      "<ipython-input-30-29fc08add843>:12: DeprecationWarning: The binary mode of fromstring is deprecated, as it behaves surprisingly on unicode inputs. Use frombuffer instead\n",
      "  npimg = np.fromstring(img, np.uint8)\n",
      "<ipython-input-27-a0ba9f74da4a>:4: DeprecationWarning: The binary mode of fromstring is deprecated, as it behaves surprisingly on unicode inputs. Use frombuffer instead\n",
      "  npimg = np.fromstring(img, np.uint8)\n"
     ]
    }
   ],
   "source": [
    "img = cv2.imread('.png')\n",
    "img = cv2.imencode('.png', img)[1].tostring()\n",
    "print(process(img))"
   ]
  },
  {
   "cell_type": "code",
   "execution_count": null,
   "metadata": {},
   "outputs": [],
   "source": []
  }
 ],
 "metadata": {
  "kernelspec": {
   "display_name": "Python 3",
   "language": "python",
   "name": "python3"
  }
 },
 "nbformat": 4,
 "nbformat_minor": 4
}
