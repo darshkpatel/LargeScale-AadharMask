{
 "cells": [
  {
   "cell_type": "code",
   "execution_count": 1,
   "metadata": {},
   "outputs": [],
   "source": [
    "from src.image_processors import new_mask\n",
    "from src.image_processors import pdf_to_cv\n",
    "import argparse\n",
    "import os\n",
    "import time\n",
    "import base64\n",
    "from matplotlib import pyplot as plt\n",
    "\n",
    "import cv2\n",
    "from nms import nms\n",
    "import numpy as np\n",
    "\n",
    "import pytesseract\n",
    "import re\n",
    "\n",
    "from PIL import Image\n",
    "from crop_image import process_image\n"
   ]
  },
  {
   "cell_type": "code",
   "execution_count": 2,
   "metadata": {},
   "outputs": [],
   "source": [
    "img = pdf_to_cv.read(\"./src/pdf_processors/2.pdf\")"
   ]
  },
  {
   "cell_type": "code",
   "execution_count": null,
   "metadata": {},
   "outputs": [],
   "source": []
  }
 ],
 "metadata": {
  "kernelspec": {
   "display_name": "Python 3",
   "language": "python",
   "name": "python3"
  },
  "language_info": {
   "codemirror_mode": {
    "name": "ipython",
    "version": 3
   },
   "file_extension": ".py",
   "mimetype": "text/x-python",
   "name": "python",
   "nbconvert_exporter": "python",
   "pygments_lexer": "ipython3",
   "version": "3.7.1"
  }
 },
 "nbformat": 4,
 "nbformat_minor": 2
}
